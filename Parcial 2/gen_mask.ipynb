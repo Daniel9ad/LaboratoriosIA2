{
 "cells": [
  {
   "cell_type": "code",
   "execution_count": 1,
   "metadata": {},
   "outputs": [],
   "source": [
    "import os\n",
    "import json\n",
    "from PIL import Image, ImageDraw\n",
    "import matplotlib.pyplot as plt\n",
    "import numpy as np"
   ]
  },
  {
   "cell_type": "code",
   "execution_count": 31,
   "metadata": {},
   "outputs": [],
   "source": [
    "ruta = 'Dataset/valid/'"
   ]
  },
  {
   "cell_type": "code",
   "execution_count": 32,
   "metadata": {},
   "outputs": [],
   "source": [
    "annotations_coco = json.load(open(f'{ruta}_annotations.coco.json','r'))"
   ]
  },
  {
   "cell_type": "code",
   "execution_count": 33,
   "metadata": {},
   "outputs": [
    {
     "data": {
      "text/plain": [
       "dict_keys(['info', 'licenses', 'categories', 'images', 'annotations'])"
      ]
     },
     "execution_count": 33,
     "metadata": {},
     "output_type": "execute_result"
    }
   ],
   "source": [
    "annotations_coco.keys()"
   ]
  },
  {
   "cell_type": "code",
   "execution_count": 29,
   "metadata": {},
   "outputs": [],
   "source": [
    "imagenes = annotations_coco['images']\n",
    "annotations = annotations_coco['annotations']"
   ]
  },
  {
   "cell_type": "code",
   "execution_count": 30,
   "metadata": {},
   "outputs": [],
   "source": [
    "for img in imagenes:\n",
    "    imagen = Image.open(f\"{ruta}/imgs/{img['file_name']}\")\n",
    "    anns = [a for a in annotations if a['image_id']==img['id']]\n",
    "    mask = Image.new('L', (448, 448), 0)\n",
    "    for ann in anns:\n",
    "        segmentation = ann['segmentation'][0]\n",
    "        draw = ImageDraw.Draw(mask)\n",
    "        draw.polygon(segmentation, outline=ann['category_id'], fill=ann['category_id']) \n",
    "    #plt.imshow(imagen)\n",
    "    #plt.imshow(mask, alpha=0.5)\n",
    "    #plt.show()\n",
    "    #print(img)\n",
    "    #print(anns)\n",
    "    #print(len(anns))\n",
    "    #mask_a = np.array(mask)\n",
    "    #print((mask_a.max(),mask_a.min()))\n",
    "    #print('----------------')\n",
    "    mask.save(f\"{ruta}/mask/{img['file_name'][:-4]}.png\")"
   ]
  }
 ],
 "metadata": {
  "kernelspec": {
   "display_name": "Python 3",
   "language": "python",
   "name": "python3"
  },
  "language_info": {
   "codemirror_mode": {
    "name": "ipython",
    "version": 3
   },
   "file_extension": ".py",
   "mimetype": "text/x-python",
   "name": "python",
   "nbconvert_exporter": "python",
   "pygments_lexer": "ipython3",
   "version": "3.10.8"
  }
 },
 "nbformat": 4,
 "nbformat_minor": 2
}
