{
 "cells": [
  {
   "cell_type": "code",
   "execution_count": 2,
   "metadata": {},
   "outputs": [],
   "source": [
    "import numpy as np\n",
    "import os\n",
    "import json\n",
    "from PIL import Image"
   ]
  },
  {
   "cell_type": "markdown",
   "metadata": {},
   "source": [
    "COCO"
   ]
  },
  {
   "cell_type": "code",
   "execution_count": 12,
   "metadata": {},
   "outputs": [
    {
     "name": "stdout",
     "output_type": "stream",
     "text": [
      "I: img-> 1662\n",
      "I: ann-> 3160\n",
      "2328\n",
      "4426\n"
     ]
    }
   ],
   "source": [
    "ndata = 'Dataset1.v6i.coco-segmentation'\n",
    "for tipo in ['train']:\n",
    "    anotaciones = json.load(open(f'Dataset/{tipo}/_annotations.coco.json','r'))\n",
    "    images = anotaciones['images']\n",
    "    name_iamges = [i['file_name'] for i in images]\n",
    "    annotations = anotaciones['annotations']\n",
    "    print('I: img->',len(images))\n",
    "    print('I: ann->',len(annotations))\n",
    "    limite1 = len(images)\n",
    "    limite2 = len(annotations)\n",
    "    b1 = 0\n",
    "    b = 0\n",
    "    n_anotaciones = json.load(open(f'{ndata}/{tipo}/_annotations.coco.json','r'))\n",
    "    n_images = n_anotaciones['images']\n",
    "    n_anotaciones = n_anotaciones['annotations']\n",
    "    for i in n_images:\n",
    "        if i['file_name'] not in name_iamges:\n",
    "            #print(i)\n",
    "            anns = [a for a in n_anotaciones if a['image_id']==i['id']]\n",
    "            #print(anns)\n",
    "            i['id'] = limite1+b1\n",
    "            b1 += 1\n",
    "            #print('c:',i)\n",
    "            images.append(i)\n",
    "            for a in anns:\n",
    "                #print(a)\n",
    "                a['id'] = limite2+b\n",
    "                a['image_id'] = i['id']\n",
    "                b += 1\n",
    "                #print('c:',a)\n",
    "                #print(a)\n",
    "                annotations.append(a)\n",
    "            #print('-------------')\n",
    "            ni = Image.open(f\"{ndata}/{tipo}/{i['file_name']}\")\n",
    "            ni.save(f\"Dataset/{tipo}/imgs/{i['file_name']}\")\n",
    "    print(len(images))\n",
    "    print(len(annotations))\n",
    "    anotaciones['images'] = images\n",
    "    anotaciones['annotations'] = annotations\n",
    "    with open(f'Dataset/{tipo}/_annotations.coco.json', 'w') as archivo:\n",
    "        json.dump(anotaciones, archivo)"
   ]
  },
  {
   "cell_type": "code",
   "execution_count": 13,
   "metadata": {},
   "outputs": [
    {
     "data": {
      "text/plain": [
       "(2328, 4426)"
      ]
     },
     "execution_count": 13,
     "metadata": {},
     "output_type": "execute_result"
    }
   ],
   "source": [
    "anotaciones = json.load(open(f'Dataset/train/_annotations.coco.json','r'))\n",
    "images = anotaciones['images']\n",
    "annotations = anotaciones['annotations']\n",
    "(len(images), len(annotations))"
   ]
  },
  {
   "cell_type": "markdown",
   "metadata": {},
   "source": [
    "YOLO"
   ]
  },
  {
   "cell_type": "code",
   "execution_count": null,
   "metadata": {},
   "outputs": [],
   "source": []
  }
 ],
 "metadata": {
  "kernelspec": {
   "display_name": "Python 3",
   "language": "python",
   "name": "python3"
  },
  "language_info": {
   "codemirror_mode": {
    "name": "ipython",
    "version": 3
   },
   "file_extension": ".py",
   "mimetype": "text/x-python",
   "name": "python",
   "nbconvert_exporter": "python",
   "pygments_lexer": "ipython3",
   "version": "3.10.8"
  }
 },
 "nbformat": 4,
 "nbformat_minor": 2
}
