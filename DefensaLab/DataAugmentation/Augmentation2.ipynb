{
 "cells": [
  {
   "cell_type": "code",
   "execution_count": 1,
   "metadata": {},
   "outputs": [],
   "source": [
    "import numpy as np\n",
    "import cv2\n",
    "import os\n",
    "from tqdm import tqdm"
   ]
  },
  {
   "cell_type": "code",
   "execution_count": 4,
   "metadata": {},
   "outputs": [],
   "source": [
    "transformaciones = [\n",
    "    (\"espejo_horizontal\", lambda img: cv2.flip(img, 1)),\n",
    "    (\"aumento_brillo\", lambda img: cv2.convertScaleAbs(img, alpha=1.5, beta=0)),# Aumento de brillo\n",
    "    (\"disminucion_brillo\", lambda img: cv2.convertScaleAbs(img, alpha=0.7, beta=0)),# Disminución de brillo\n",
    "    (\"filtro_blur\", lambda img: cv2.GaussianBlur(img, (5, 5), 0)),# Aplicar un filtro blur\n",
    "    (\"filtro_sharpen\", lambda img: cv2.filter2D(img, -1, np.array([[-1, -1, -1], [-1, 9, -1], [-1, -1, -1]])))# Afilado\n",
    "]"
   ]
  },
  {
   "cell_type": "code",
   "execution_count": 10,
   "metadata": {},
   "outputs": [
    {
     "name": "stderr",
     "output_type": "stream",
     "text": [
      "  1%|          | 1/118 [00:00<00:12,  9.33it/s]"
     ]
    },
    {
     "name": "stderr",
     "output_type": "stream",
     "text": [
      "100%|██████████| 118/118 [00:19<00:00,  5.92it/s]\n"
     ]
    }
   ],
   "source": [
    "# Recorre todas las imágenes en la carpeta de entrada\n",
    "ruta = '../Clothing_dataset/Undershirt/'\n",
    "for filename in tqdm(os.listdir(ruta)):\n",
    "    if filename.endswith('.jpg'):\n",
    "        ruta_imagen_entrada = os.path.join(ruta, filename)\n",
    "        # Lee la imagen\n",
    "        imagen_original = cv2.imread(ruta_imagen_entrada)\n",
    "        # Aplica las transformaciones y guarda las nuevas imágenes\n",
    "        for nombre_transformacion, transformacion_func in transformaciones:\n",
    "            nueva_imagen = transformacion_func(imagen_original.copy())\n",
    "            # Define el nombre de la nueva imagen\n",
    "            nombre_nueva_imagen = f\"{os.path.splitext(filename)[0]}_{nombre_transformacion}.jpg\"\n",
    "            # Guarda la nueva imagen en la carpeta de salida\n",
    "            ruta_nueva_imagen = os.path.join(ruta, nombre_nueva_imagen)\n",
    "            cv2.imwrite(ruta_nueva_imagen, nueva_imagen)"
   ]
  },
  {
   "cell_type": "code",
   "execution_count": null,
   "metadata": {},
   "outputs": [],
   "source": []
  }
 ],
 "metadata": {
  "kernelspec": {
   "display_name": "Python 3",
   "language": "python",
   "name": "python3"
  },
  "language_info": {
   "codemirror_mode": {
    "name": "ipython",
    "version": 3
   },
   "file_extension": ".py",
   "mimetype": "text/x-python",
   "name": "python",
   "nbconvert_exporter": "python",
   "pygments_lexer": "ipython3",
   "version": "3.10.8"
  }
 },
 "nbformat": 4,
 "nbformat_minor": 2
}
