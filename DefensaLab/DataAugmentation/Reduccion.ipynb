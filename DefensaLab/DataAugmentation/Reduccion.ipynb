{
 "cells": [
  {
   "cell_type": "code",
   "execution_count": 2,
   "metadata": {},
   "outputs": [],
   "source": [
    "import numpy as np\n",
    "import cv2\n",
    "import os\n",
    "from tqdm import tqdm"
   ]
  },
  {
   "cell_type": "code",
   "execution_count": 17,
   "metadata": {},
   "outputs": [
    {
     "name": "stderr",
     "output_type": "stream",
     "text": [
      "  0%|          | 0/6058 [00:00<?, ?it/s]"
     ]
    },
    {
     "name": "stderr",
     "output_type": "stream",
     "text": [
      "100%|██████████| 6058/6058 [02:43<00:00, 37.15it/s]\n"
     ]
    }
   ],
   "source": [
    "# Recorre todas las imágenes en la carpeta de entrada\n",
    "ruta = '../Clothing_dataset/Dress/'\n",
    "for filename in tqdm(os.listdir(ruta)[2:]):\n",
    "    if filename.endswith('.jpg'):\n",
    "        ruta_imagen_entrada = os.path.join(ruta, filename)\n",
    "        # Lee la imagen\n",
    "        imagen_original = cv2.imread(ruta_imagen_entrada)\n",
    "        # Aplica las transformaciones\n",
    "        transformacion_func = lambda img: cv2.resize(img, (img.shape[1] // 2, img.shape[0] // 2))\n",
    "        nueva_imagen = transformacion_func(imagen_original.copy())\n",
    "        # Guarda la nueva imagen en la carpeta de salida\n",
    "        ruta_nueva_imagen = os.path.join(ruta, filename)\n",
    "        cv2.imwrite(ruta_nueva_imagen, nueva_imagen)"
   ]
  },
  {
   "cell_type": "code",
   "execution_count": null,
   "metadata": {},
   "outputs": [],
   "source": []
  }
 ],
 "metadata": {
  "kernelspec": {
   "display_name": "Python 3",
   "language": "python",
   "name": "python3"
  },
  "language_info": {
   "codemirror_mode": {
    "name": "ipython",
    "version": 3
   },
   "file_extension": ".py",
   "mimetype": "text/x-python",
   "name": "python",
   "nbconvert_exporter": "python",
   "pygments_lexer": "ipython3",
   "version": "3.10.8"
  }
 },
 "nbformat": 4,
 "nbformat_minor": 2
}
